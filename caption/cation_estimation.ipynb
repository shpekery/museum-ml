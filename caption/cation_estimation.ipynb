{
 "cells": [
  {
   "cell_type": "code",
   "execution_count": 1,
   "metadata": {
    "ExecuteTime": {
     "end_time": "2024-04-14T05:21:34.834823Z",
     "start_time": "2024-04-14T05:21:30.801842Z"
    }
   },
   "outputs": [],
   "source": [
    "import time\n",
    "\n",
    "from PIL import Image\n",
    "from transformers import BlipProcessor, BlipForConditionalGeneration, AutoProcessor, AutoModelForCausalLM\n",
    "from googletrans import Translator\n",
    "import os\n",
    "import torch"
   ]
  },
  {
   "cell_type": "code",
   "execution_count": 2,
   "metadata": {
    "ExecuteTime": {
     "end_time": "2024-04-14T05:21:34.988448Z",
     "start_time": "2024-04-14T05:21:34.835825Z"
    }
   },
   "outputs": [],
   "source": [
    "translator = Translator()\n",
    "def translate_text(text, dest_lang='ru', src='en'):\n",
    "    translation = translator.translate(text, dest=dest_lang, src=src)\n",
    "    return translation.text"
   ]
  },
  {
   "cell_type": "code",
   "execution_count": 3,
   "metadata": {
    "ExecuteTime": {
     "end_time": "2024-04-14T05:21:35.010998Z",
     "start_time": "2024-04-14T05:21:34.989451Z"
    }
   },
   "outputs": [],
   "source": [
    "device = torch.device(\"cuda\" if torch.cuda.is_available() else \"cpu\")"
   ]
  },
  {
   "cell_type": "code",
   "execution_count": 4,
   "metadata": {
    "ExecuteTime": {
     "end_time": "2024-04-14T05:21:38.597118Z",
     "start_time": "2024-04-14T05:21:35.012Z"
    }
   },
   "outputs": [],
   "source": [
    "processor_git = AutoProcessor.from_pretrained(\"microsoft/git-base-coco\")\n",
    "model_git = AutoModelForCausalLM.from_pretrained(\"microsoft/git-base-coco\").to(device)"
   ]
  },
  {
   "cell_type": "code",
   "execution_count": 5,
   "metadata": {
    "ExecuteTime": {
     "end_time": "2024-04-14T05:21:38.601663Z",
     "start_time": "2024-04-14T05:21:38.598123Z"
    }
   },
   "outputs": [],
   "source": [
    "def generate_caption_git(image):\n",
    "    pixel_values = processor_git(images=image, text='a museum photography of', return_tensors=\"pt\").pixel_values.to(device)\n",
    "\n",
    "    generated_ids = model_git.generate(pixel_values=pixel_values, max_length=50)\n",
    "    generated_caption = processor_git.batch_decode(generated_ids, skip_special_tokens=True)[0]\n",
    "    return translate_text(generated_caption)"
   ]
  },
  {
   "cell_type": "code",
   "execution_count": 6,
   "metadata": {
    "ExecuteTime": {
     "end_time": "2024-04-13T21:54:39.558854Z",
     "start_time": "2024-04-13T21:54:34.986847Z"
    }
   },
   "outputs": [],
   "source": [
    "processor_blip = BlipProcessor.from_pretrained(\"Salesforce/blip-image-captioning-large\")\n",
    "model_blip = BlipForConditionalGeneration.from_pretrained(\"Salesforce/blip-image-captioning-large\").to(device)"
   ]
  },
  {
   "cell_type": "code",
   "execution_count": 7,
   "metadata": {
    "ExecuteTime": {
     "end_time": "2024-04-13T21:54:40.741360Z",
     "start_time": "2024-04-13T21:54:40.738222Z"
    }
   },
   "outputs": [],
   "source": [
    "def generate_desc(image):\n",
    "    # conditional image captioning\n",
    "    text = \"a museum photography of\"\n",
    "    inputs = processor_blip(image, text, return_tensors=\"pt\").to(device)\n",
    "\n",
    "    out = model_blip.generate(**inputs)\n",
    "    answer = processor_blip.decode(out[0], skip_special_tokens=True)\n",
    "    return translate_text(answer)\n",
    "    #return processor.decode(out[0], skip_special_tokens=True)"
   ]
  },
  {
   "cell_type": "code",
   "outputs": [
    {
     "name": "stdout",
     "output_type": "stream",
     "text": [
      "Time:  45.8468177318573\n"
     ]
    }
   ],
   "source": [
    "import time\n",
    "\n",
    "flag = True\n",
    "start_time = None\n",
    "end_time = None\n",
    "\n",
    "for img in os.listdir(\"../data/yolo_best/val/Редкие книги\")[:101]:\n",
    "    if flag:\n",
    "        start_time = time.time()\n",
    "        flag = False\n",
    "    img = Image.open(os.path.join(\"../data/yolo_best/val/Редкие книги\", img))\n",
    "    generate_caption_git(img)\n",
    "end_time = time.time()\n",
    "print(\"Time: \", end_time - start_time)"
   ],
   "metadata": {
    "collapsed": false,
    "ExecuteTime": {
     "end_time": "2024-04-13T22:03:12.945428Z",
     "start_time": "2024-04-13T22:02:27.092159Z"
    }
   },
   "execution_count": 13
  },
  {
   "cell_type": "code",
   "outputs": [
    {
     "name": "stdout",
     "output_type": "stream",
     "text": [
      "Time:  43.33316206932068\n"
     ]
    }
   ],
   "source": [
    "import time\n",
    "\n",
    "flag = True\n",
    "start_time = None\n",
    "end_time = None\n",
    "\n",
    "for img in os.listdir(\"../../data/yolo_best/val/Редкие книги\")[:101]:\n",
    "    if flag:\n",
    "        start_time = time.time()\n",
    "        flag = False\n",
    "    img = Image.open(os.path.join(\"../../data/yolo_best/val/Редкие книги\", img))\n",
    "    generate_caption_git(img)\n",
    "end_time = time.time()\n",
    "print(\"Time: \", end_time - start_time)"
   ],
   "metadata": {
    "collapsed": false,
    "ExecuteTime": {
     "end_time": "2024-04-14T05:22:46.974886Z",
     "start_time": "2024-04-14T05:22:03.636780Z"
    }
   },
   "execution_count": 8
  }
 ],
 "metadata": {
  "language_info": {
   "name": "python"
  },
  "kernelspec": {
   "name": "python3",
   "language": "python",
   "display_name": "Python 3 (ipykernel)"
  }
 },
 "nbformat": 4,
 "nbformat_minor": 2
}
