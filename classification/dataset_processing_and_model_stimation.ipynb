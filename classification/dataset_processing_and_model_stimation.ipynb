{
 "cells": [
  {
   "cell_type": "code",
   "execution_count": 4,
   "metadata": {
    "ExecuteTime": {
     "end_time": "2024-04-14T04:41:05.169323Z",
     "start_time": "2024-04-14T04:41:05.165681Z"
    }
   },
   "outputs": [],
   "source": [
    "import pandas as pd\n",
    "import numpy as np\n",
    "from PIL import Image\n",
    "import shutil\n",
    "import os"
   ]
  },
  {
   "cell_type": "code",
   "execution_count": 5,
   "metadata": {
    "ExecuteTime": {
     "end_time": "2024-04-14T04:41:06.163723Z",
     "start_time": "2024-04-14T04:41:06.049801Z"
    }
   },
   "outputs": [
    {
     "data": {
      "text/plain": "   object_id                                               name  \\\n0   10669820                Водолей - коник (фрагмент - голова)   \n1    4489444  Винтовка «Самозарядная винтовка Токарева» (мет...   \n2    8722586                           Инструмент. Калибр-скоба   \n3    3712248        Судомодель. НИС \"Космонавт  Виктор Пацаев\".   \n4    6339754                                             Сабля.   \n\n                                         description       group     img_name  \n0  сероглиняный, лепной, со сплошным белым ангобо...  Археология  7862029.jpg  \n1  На стволе имеется надульник, на  торце которог...      Оружие  9461061.jpg  \n2  Прямоугольная пластина с усечёнными углами и д...      Прочие  5095122.jpg  \n3   Корпус модели, надстройки, шлюпки выполнены и...      Прочие   551422.jpg  \n4                                                NaN      Оружие  2592073.jpg  ",
      "text/html": "<div>\n<style scoped>\n    .dataframe tbody tr th:only-of-type {\n        vertical-align: middle;\n    }\n\n    .dataframe tbody tr th {\n        vertical-align: top;\n    }\n\n    .dataframe thead th {\n        text-align: right;\n    }\n</style>\n<table border=\"1\" class=\"dataframe\">\n  <thead>\n    <tr style=\"text-align: right;\">\n      <th></th>\n      <th>object_id</th>\n      <th>name</th>\n      <th>description</th>\n      <th>group</th>\n      <th>img_name</th>\n    </tr>\n  </thead>\n  <tbody>\n    <tr>\n      <th>0</th>\n      <td>10669820</td>\n      <td>Водолей - коник (фрагмент - голова)</td>\n      <td>сероглиняный, лепной, со сплошным белым ангобо...</td>\n      <td>Археология</td>\n      <td>7862029.jpg</td>\n    </tr>\n    <tr>\n      <th>1</th>\n      <td>4489444</td>\n      <td>Винтовка «Самозарядная винтовка Токарева» (мет...</td>\n      <td>На стволе имеется надульник, на  торце которог...</td>\n      <td>Оружие</td>\n      <td>9461061.jpg</td>\n    </tr>\n    <tr>\n      <th>2</th>\n      <td>8722586</td>\n      <td>Инструмент. Калибр-скоба</td>\n      <td>Прямоугольная пластина с усечёнными углами и д...</td>\n      <td>Прочие</td>\n      <td>5095122.jpg</td>\n    </tr>\n    <tr>\n      <th>3</th>\n      <td>3712248</td>\n      <td>Судомодель. НИС \"Космонавт  Виктор Пацаев\".</td>\n      <td>Корпус модели, надстройки, шлюпки выполнены и...</td>\n      <td>Прочие</td>\n      <td>551422.jpg</td>\n    </tr>\n    <tr>\n      <th>4</th>\n      <td>6339754</td>\n      <td>Сабля.</td>\n      <td>NaN</td>\n      <td>Оружие</td>\n      <td>2592073.jpg</td>\n    </tr>\n  </tbody>\n</table>\n</div>"
     },
     "execution_count": 5,
     "metadata": {},
     "output_type": "execute_result"
    }
   ],
   "source": [
    "df = pd.read_csv('../data/train.csv', sep=';')\n",
    "df.head()"
   ]
  },
  {
   "cell_type": "code",
   "execution_count": 6,
   "metadata": {
    "ExecuteTime": {
     "end_time": "2024-04-14T04:41:06.758043Z",
     "start_time": "2024-04-14T04:41:06.752286Z"
    }
   },
   "outputs": [
    {
     "data": {
      "text/plain": "group\nРедкие книги                 2025\nНумизматика                  1522\nПрочие                       1511\nДПИ                          1496\nЕстественнонауч.коллекция    1479\nМинералогия                  1455\nПечатная продукция           1438\nТехника                      1390\nСкульптура                   1283\nФото, негативы               1227\nДокументы                    1190\nОружие                       1157\nГрафика                      1082\nЖивопись                     1057\nАрхеология                   1033\nName: count, dtype: int64"
     },
     "execution_count": 6,
     "metadata": {},
     "output_type": "execute_result"
    }
   ],
   "source": [
    "df['group'].value_counts()"
   ]
  },
  {
   "cell_type": "code",
   "execution_count": 7,
   "metadata": {
    "ExecuteTime": {
     "end_time": "2024-04-14T04:41:07.873427Z",
     "start_time": "2024-04-14T04:41:07.277441Z"
    }
   },
   "outputs": [],
   "source": [
    "from sklearn.model_selection import train_test_split\n",
    "\n",
    "x_train, x_test, y_train, y_test = train_test_split(df, df['group'], test_size=0.05, random_state=42)"
   ]
  },
  {
   "cell_type": "code",
   "execution_count": 8,
   "metadata": {
    "ExecuteTime": {
     "end_time": "2024-04-14T04:41:08.748185Z",
     "start_time": "2024-04-14T04:41:08.745441Z"
    }
   },
   "outputs": [],
   "source": [
    "x_val, x_test, y_val, y_test = train_test_split(x_test, y_test, test_size=0.5)"
   ]
  },
  {
   "cell_type": "code",
   "execution_count": 9,
   "metadata": {
    "ExecuteTime": {
     "end_time": "2024-04-14T04:41:09.589785Z",
     "start_time": "2024-04-14T04:41:09.586237Z"
    }
   },
   "outputs": [
    {
     "name": "stdout",
     "output_type": "stream",
     "text": [
      "19327\n",
      "1018\n"
     ]
    }
   ],
   "source": [
    "print(len(x_train))\n",
    "print(len(x_val))"
   ]
  },
  {
   "cell_type": "code",
   "outputs": [],
   "source": [
    "cat = list(df['group'].unique())"
   ],
   "metadata": {
    "collapsed": false,
    "ExecuteTime": {
     "end_time": "2024-04-14T04:41:10.203454Z",
     "start_time": "2024-04-14T04:41:10.198113Z"
    }
   },
   "execution_count": 10
  },
  {
   "cell_type": "code",
   "execution_count": 27,
   "metadata": {
    "ExecuteTime": {
     "end_time": "2024-04-13T20:59:00.201367Z",
     "start_time": "2024-04-13T20:59:00.196167Z"
    }
   },
   "outputs": [],
   "source": [
    "for cat in examples.keys():\n",
    "    os.mkdir(f'../data/yolo_best/train/{cat}')\n",
    "    os.mkdir(f'../data/yolo_best/val/{cat}')"
   ]
  },
  {
   "cell_type": "code",
   "outputs": [],
   "source": [
    "examples = dict()\n",
    "for cat in x_test['group'].unique():\n",
    "    ten_examples = x_test[x_test['group'] == cat].reset_index()\n",
    "    examples[cat] = ten_examples"
   ],
   "metadata": {
    "collapsed": false
   },
   "execution_count": 15
  },
  {
   "cell_type": "code",
   "execution_count": 30,
   "metadata": {
    "ExecuteTime": {
     "end_time": "2024-04-13T20:59:29.607900Z",
     "start_time": "2024-04-13T20:59:29.586422Z"
    }
   },
   "outputs": [],
   "source": [
    "examples = dict()\n",
    "for cat in x_train['group'].unique():\n",
    "    ten_examples = x_train[x_train['group'] == cat].reset_index()\n",
    "    examples[cat] = ten_examples"
   ]
  },
  {
   "cell_type": "code",
   "execution_count": 31,
   "metadata": {
    "ExecuteTime": {
     "end_time": "2024-04-13T21:02:11.020277Z",
     "start_time": "2024-04-13T20:59:31.585299Z"
    }
   },
   "outputs": [],
   "source": [
    "for cat in examples.keys():\n",
    "    for i in range(len(examples[cat])):\n",
    "        ex = examples[cat].iloc[i, :]\n",
    "        shutil.copyfile(f\"../data\\\\train\\\\{ex['object_id']}\\\\{ex['img_name']}\", f\"../data/yolo_best/train/{cat}/{ex['object_id']}_{ex['img_name']}\")"
   ]
  },
  {
   "cell_type": "code",
   "outputs": [],
   "source": [
    "examples.keys()"
   ],
   "metadata": {
    "collapsed": false
   }
  },
  {
   "cell_type": "code",
   "execution_count": 16,
   "metadata": {
    "ExecuteTime": {
     "end_time": "2024-04-13T06:03:27.284536Z",
     "start_time": "2024-04-13T06:03:15.400773Z"
    }
   },
   "outputs": [],
   "source": [
    "for cat in examples.keys():\n",
    "    for i in range(len(examples[cat])):\n",
    "        ex = examples[cat].iloc[i, :]\n",
    "        shutil.copyfile(f\"../data\\\\train\\\\{ex['object_id']}\\\\{ex['img_name']}\", f\"../data/yolo/test/{cat}/{ex['img_name']}.jpg\")"
   ]
  },
  {
   "cell_type": "code",
   "execution_count": 32,
   "metadata": {
    "ExecuteTime": {
     "end_time": "2024-04-13T21:02:11.032154Z",
     "start_time": "2024-04-13T21:02:11.021304Z"
    }
   },
   "outputs": [],
   "source": [
    "examples = dict()\n",
    "for cat in x_val['group'].unique():\n",
    "    ten_examples = x_val[x_val['group'] == cat].reset_index()\n",
    "    examples[cat] = ten_examples"
   ]
  },
  {
   "cell_type": "code",
   "execution_count": 33,
   "metadata": {
    "ExecuteTime": {
     "end_time": "2024-04-13T21:02:18.904476Z",
     "start_time": "2024-04-13T21:02:11.032675Z"
    }
   },
   "outputs": [],
   "source": [
    "for cat in examples.keys():\n",
    "    for i in range(len(examples[cat])):\n",
    "        ex = examples[cat].iloc[i, :]\n",
    "        shutil.copyfile(f\"../data\\\\train\\\\{ex['object_id']}\\\\{ex['img_name']}\", f\"../data/yolo_best/val/{cat}/{ex['img_name']}\")"
   ]
  },
  {
   "cell_type": "code",
   "execution_count": 1,
   "metadata": {
    "ExecuteTime": {
     "end_time": "2024-04-14T04:36:41.969720Z",
     "start_time": "2024-04-14T04:36:32.378400Z"
    }
   },
   "outputs": [],
   "source": [
    "from ultralytics import YOLO\n",
    "\n",
    "# Load a pretrained YOLOV8 model\n",
    "model = YOLO(r\"runs/classify/train16/weights/best.pt\")"
   ]
  },
  {
   "cell_type": "code",
   "outputs": [
    {
     "name": "stdout",
     "output_type": "stream",
     "text": [
      "Ultralytics YOLOv8.1.47  Python-3.11.8 torch-2.4.0.dev20240405+cu121 CUDA:0 (NVIDIA GeForce RTX 3070 Laptop GPU, 8192MiB)\n",
      "YOLOv8x-cls summary (fused): 133 layers, 56142415 parameters, 0 gradients, 153.8 GFLOPs\n",
      "\u001B[34m\u001B[1mtrain:\u001B[0m E:\\MachineLearningProjects\\ml-practices\\src\\haccaton\\data\\yolo_best\\train... found 19325 images in 15 classes  \n",
      "\u001B[34m\u001B[1mval:\u001B[0m E:\\MachineLearningProjects\\ml-practices\\src\\haccaton\\data\\yolo_best\\val... found 1018 images in 15 classes  \n",
      "\u001B[34m\u001B[1mtest:\u001B[0m None...\n"
     ]
    },
    {
     "name": "stderr",
     "output_type": "stream",
     "text": [
      "\u001B[34m\u001B[1mval: \u001B[0mScanning E:\\MachineLearningProjects\\ml-practices\\src\\haccaton\\data\\yolo_best\\val... 1018 images, 0 corrupt: 100%|██████████| 1018/1018 [00:00<?, ?it/s]"
     ]
    },
    {
     "name": "stdout",
     "output_type": "stream",
     "text": [
      "\u001B[34m\u001B[1mval: \u001B[0mWARNING  E:\\MachineLearningProjects\\ml-practices\\src\\haccaton\\data\\yolo_best\\val\\\\31687598.jpg: corrupt JPEG restored and saved\n",
      "\u001B[34m\u001B[1mval: \u001B[0mWARNING  E:\\MachineLearningProjects\\ml-practices\\src\\haccaton\\data\\yolo_best\\val\\\\9336514.jpg: corrupt JPEG restored and saved\n"
     ]
    },
    {
     "name": "stderr",
     "output_type": "stream",
     "text": [
      "\n",
      "               classes   top1_acc   top5_acc: 100%|██████████| 64/64 [00:06<00:00,  9.33it/s]\n"
     ]
    },
    {
     "name": "stdout",
     "output_type": "stream",
     "text": [
      "                   all      0.866      0.986\n",
      "Speed: 0.3ms preprocess, 3.7ms inference, 0.0ms loss, 0.0ms postprocess per image\n",
      "Results saved to \u001B[1mruns\\classify\\val\u001B[0m\n"
     ]
    },
    {
     "data": {
      "text/plain": "ultralytics.utils.metrics.ClassifyMetrics object with attributes:\n\nconfusion_matrix: <ultralytics.utils.metrics.ConfusionMatrix object at 0x0000020BA1E34E10>\ncurves: []\ncurves_results: []\nfitness: 0.926326185464859\nkeys: ['metrics/accuracy_top1', 'metrics/accuracy_top5']\nresults_dict: {'metrics/accuracy_top1': 0.8664047718048096, 'metrics/accuracy_top5': 0.9862475991249084, 'fitness': 0.926326185464859}\nsave_dir: WindowsPath('runs/classify/val')\nspeed: {'preprocess': 0.32598283763952945, 'inference': 3.6813257251132447, 'loss': 0.0009822470734302093, 'postprocess': 0.0}\ntask: 'classify'\ntop1: 0.8664047718048096\ntop5: 0.9862475991249084"
     },
     "execution_count": 2,
     "metadata": {},
     "output_type": "execute_result"
    }
   ],
   "source": [
    "model.val()"
   ],
   "metadata": {
    "collapsed": false,
    "ExecuteTime": {
     "end_time": "2024-04-14T04:38:00.680945Z",
     "start_time": "2024-04-14T04:37:21.355593Z"
    }
   },
   "execution_count": 2
  },
  {
   "cell_type": "code",
   "execution_count": 12,
   "metadata": {
    "ExecuteTime": {
     "end_time": "2024-04-14T04:41:58.757529Z",
     "start_time": "2024-04-14T04:41:26.009914Z"
    }
   },
   "outputs": [],
   "source": [
    "lst = []\n",
    "for c in cat:\n",
    "    res = model.predict(source=f\"../data/yolo_best/val/{c}\", show=False, verbose=False)\n",
    "    a = [r.probs.data for r in res]\n",
    "    b = [c.cpu().numpy().tolist() for c in a]\n",
    "    i = [d.index(max(d)) for d in b]\n",
    "    lst.append([c, [res[0].names[j] for j in i]])"
   ]
  },
  {
   "cell_type": "code",
   "execution_count": 13,
   "metadata": {
    "ExecuteTime": {
     "end_time": "2024-04-14T04:41:58.762503Z",
     "start_time": "2024-04-14T04:41:58.759043Z"
    }
   },
   "outputs": [],
   "source": [
    "df1 = []\n",
    "df2 = []\n",
    "for element in lst:\n",
    "    df1.extend(element[1])\n",
    "    df2.extend([element[0]] * len(element[1]))\n",
    "    "
   ]
  },
  {
   "cell_type": "code",
   "execution_count": 14,
   "metadata": {
    "ExecuteTime": {
     "end_time": "2024-04-14T04:41:58.766646Z",
     "start_time": "2024-04-14T04:41:58.763506Z"
    }
   },
   "outputs": [],
   "source": [
    "real = pd.DataFrame(list(zip(df1, df2)), columns=['predict', 'real'])"
   ]
  },
  {
   "cell_type": "code",
   "execution_count": 15,
   "metadata": {
    "ExecuteTime": {
     "end_time": "2024-04-14T04:41:58.785459Z",
     "start_time": "2024-04-14T04:41:58.766646Z"
    }
   },
   "outputs": [
    {
     "name": "stdout",
     "output_type": "stream",
     "text": [
      "0.8652481981669569\n",
      "0.8664047151277013\n",
      "0.8664047151277013\n",
      "0.8661570245504827\n"
     ]
    }
   ],
   "source": [
    "from sklearn.metrics import f1_score, accuracy_score, recall_score, precision_score\n",
    "\n",
    "print(f1_score(df2, df1, average='weighted'))\n",
    "print(accuracy_score(df2, df1))\n",
    "print(recall_score(df2, df1, average='weighted'))\n",
    "print(precision_score(df2, df1, average='weighted'))"
   ]
  }
 ],
 "metadata": {
  "kernelspec": {
   "display_name": "base",
   "language": "python",
   "name": "python3"
  },
  "language_info": {
   "codemirror_mode": {
    "name": "ipython",
    "version": 3
   },
   "file_extension": ".py",
   "mimetype": "text/x-python",
   "name": "python",
   "nbconvert_exporter": "python",
   "pygments_lexer": "ipython3",
   "version": "3.12.0"
  }
 },
 "nbformat": 4,
 "nbformat_minor": 2
}
